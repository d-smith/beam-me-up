{
 "cells": [
  {
   "cell_type": "markdown",
   "id": "07197d3d",
   "metadata": {},
   "source": [
    "## Word Count with Beam"
   ]
  },
  {
   "cell_type": "code",
   "execution_count": null,
   "id": "19d7edc3",
   "metadata": {},
   "outputs": [],
   "source": [
    "import re\n",
    "import logging\n",
    "import apache_beam as beam\n",
    "from apache_beam.io import ReadFromText\n",
    "from apache_beam.options.pipeline_options import PipelineOptions\n",
    "from apache_beam.options.pipeline_options import StandardOptions"
   ]
  },
  {
   "cell_type": "code",
   "execution_count": null,
   "id": "2d6da786",
   "metadata": {},
   "outputs": [],
   "source": [
    "options = PipelineOptions()\n",
    "options.view_as(StandardOptions).runner = 'DirectRunner'"
   ]
  },
  {
   "cell_type": "code",
   "execution_count": null,
   "id": "14f14191",
   "metadata": {},
   "outputs": [],
   "source": [
    "# Run the whole thing in one go\n",
    "with beam.Pipeline(options=options) as p:\n",
    "    lines = p | ReadFromText('war_and_peace.txt')\n",
    "    \n",
    "    # Count the occurrences of each word.\n",
    "    counts = (\n",
    "        lines\n",
    "        | 'Split' >> (\n",
    "            beam.FlatMap(\n",
    "                lambda x: re.findall(r'[A-Za-z\\']+', x)).with_output_types(str))\n",
    "        | 'PairWithOne' >> beam.Map(lambda x: (x, 1))\n",
    "        | 'GroupAndSum' >> beam.CombinePerKey(sum))\n",
    "\n",
    "    # Format the counts into a PCollection of strings.\n",
    "    def format_result(word_count):\n",
    "      (word, count) = word_count\n",
    "      return '%s: %s' % (word, count)\n",
    "\n",
    "    output = counts | 'Format' >> beam.Map(format_result)\n",
    "    \n",
    "    output | \"print\" >> beam.Map(print)"
   ]
  },
  {
   "cell_type": "code",
   "execution_count": null,
   "id": "c24ddb07",
   "metadata": {},
   "outputs": [],
   "source": []
  }
 ],
 "metadata": {
  "kernelspec": {
   "display_name": "Python 3",
   "language": "python",
   "name": "python3"
  },
  "language_info": {
   "codemirror_mode": {
    "name": "ipython",
    "version": 3
   },
   "file_extension": ".py",
   "mimetype": "text/x-python",
   "name": "python",
   "nbconvert_exporter": "python",
   "pygments_lexer": "ipython3",
   "version": "3.9.1"
  }
 },
 "nbformat": 4,
 "nbformat_minor": 5
}
